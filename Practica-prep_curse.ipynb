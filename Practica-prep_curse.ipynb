{
 "cells": [
  {
   "attachments": {},
   "cell_type": "markdown",
   "metadata": {},
   "source": [
    "## Flujos de Control"
   ]
  },
  {
   "attachments": {},
   "cell_type": "markdown",
   "metadata": {},
   "source": [
    "1) Crear una variable que contenga un elemento del conjunto de números enteros y luego imprimir por pantalla si es mayor o menor a cero"
   ]
  },
  {
   "cell_type": "code",
   "execution_count": 60,
   "metadata": {},
   "outputs": [
    {
     "name": "stdout",
     "output_type": "stream",
     "text": [
      "True\n",
      "False\n"
     ]
    }
   ],
   "source": [
    "x=88\n",
    "print(x>0)\n",
    "print(x<0)"
   ]
  },
  {
   "attachments": {},
   "cell_type": "markdown",
   "metadata": {},
   "source": [
    "2) Crear dos variables y un condicional que informe si son del mismo tipo de dato"
   ]
  },
  {
   "cell_type": "code",
   "execution_count": 61,
   "metadata": {},
   "outputs": [
    {
     "name": "stdout",
     "output_type": "stream",
     "text": [
      "Si, es mayor\n"
     ]
    }
   ],
   "source": [
    "a= 34\n",
    "b= 12\n",
    "if a<b:\n",
    "    print(\"Si, es menor\")\n",
    "elif a>b:\n",
    "    print(\"Si, es mayor\")\n",
    "else:\n",
    "    print(\"son iguales\")"
   ]
  },
  {
   "attachments": {},
   "cell_type": "markdown",
   "metadata": {},
   "source": [
    "3) Para los valores enteros del 1 al 20, imprimir por pantalla si es par o impar"
   ]
  },
  {
   "cell_type": "code",
   "execution_count": 62,
   "metadata": {},
   "outputs": [
    {
     "name": "stdout",
     "output_type": "stream",
     "text": [
      "soy un numero impar 1\n",
      "Soy un numero par 2\n",
      "soy un numero impar 3\n",
      "Soy un numero par 4\n",
      "soy un numero impar 5\n",
      "Soy un numero par 6\n",
      "soy un numero impar 7\n",
      "Soy un numero par 8\n",
      "soy un numero impar 9\n",
      "Soy un numero par 10\n",
      "soy un numero impar 11\n",
      "Soy un numero par 12\n",
      "soy un numero impar 13\n",
      "Soy un numero par 14\n",
      "soy un numero impar 15\n",
      "Soy un numero par 16\n",
      "soy un numero impar 17\n",
      "Soy un numero par 18\n",
      "soy un numero impar 19\n",
      "Soy un numero par 20\n"
     ]
    }
   ],
   "source": [
    "for i in range(1,21):\n",
    "    if i % 2 == 0:\n",
    "        print(\"Soy un numero par\", + int(i))\n",
    "    else:\n",
    "        print(\"soy un numero impar\", + int(i))\n",
    "i+=1\n"
   ]
  },
  {
   "attachments": {},
   "cell_type": "markdown",
   "metadata": {},
   "source": [
    "4) En un ciclo for mostrar para los valores entre 0 y 5 el resultado de elevarlo a la potencia igual a 3"
   ]
  },
  {
   "cell_type": "code",
   "execution_count": 63,
   "metadata": {},
   "outputs": [
    {
     "name": "stdout",
     "output_type": "stream",
     "text": [
      "el valor  0 elevado a la tercera potencia es=  0\n",
      "el valor  1 elevado a la tercera potencia es=  1\n",
      "el valor  2 elevado a la tercera potencia es=  8\n",
      "el valor  3 elevado a la tercera potencia es=  27\n",
      "el valor  4 elevado a la tercera potencia es=  64\n",
      "el valor  5 elevado a la tercera potencia es=  125\n"
     ]
    }
   ],
   "source": [
    "for i in range (0, 6):\n",
    "    if i % 1==0:\n",
    "        print(\"el valor \", + int(i), \"elevado a la tercera potencia es= \", + (int(i**3)))"
   ]
  },
  {
   "attachments": {},
   "cell_type": "markdown",
   "metadata": {},
   "source": [
    "5) Crear una variable que contenga un número entero y realizar un ciclo for la misma cantidad de ciclos"
   ]
  },
  {
   "cell_type": "code",
   "execution_count": 64,
   "metadata": {},
   "outputs": [
    {
     "name": "stdout",
     "output_type": "stream",
     "text": [
      "5\n",
      "5\n",
      "5\n"
     ]
    }
   ],
   "source": [
    "x=3\n",
    "for num in range(0, x):\n",
    "    pass\n",
    "    print(i)\n",
    "    \n"
   ]
  },
  {
   "attachments": {},
   "cell_type": "markdown",
   "metadata": {},
   "source": [
    "6) Utilizar un ciclo while para realizar el factorial de un número guardado en una variable, sólo si la variable contiene un número entero mayor a 0"
   ]
  },
  {
   "cell_type": "code",
   "execution_count": 65,
   "metadata": {},
   "outputs": [
    {
     "name": "stdout",
     "output_type": "stream",
     "text": [
      "el factorial es:  840\n"
     ]
    }
   ],
   "source": [
    "b= 7\n",
    "if type((b) == int):\n",
    "    if (b > 0):\n",
    "        factorial = b\n",
    "        while (b > 4):\n",
    "            b-=1\n",
    "            factorial = factorial * b\n",
    "        print(\"el factorial es: \", + factorial)\n",
    "    else:\n",
    "        print(\"la variable no es mayor a 0\")\n",
    "else:\n",
    "    print(\"la variable no es un numero entero\")\n",
    "\n"
   ]
  },
  {
   "attachments": {},
   "cell_type": "markdown",
   "metadata": {},
   "source": [
    "7) Crear un ciclo for dentro de un ciclo while"
   ]
  },
  {
   "cell_type": "code",
   "execution_count": 66,
   "metadata": {},
   "outputs": [
    {
     "name": "stdout",
     "output_type": "stream",
     "text": [
      "Ciclo while=  2\n",
      "Ciclo for=  0\n",
      "Ciclo for=  1\n",
      "Ciclo for=  2\n",
      "Ciclo while=  3\n",
      "Ciclo for=  0\n",
      "Ciclo for=  1\n",
      "Ciclo for=  2\n",
      "Ciclo for=  3\n",
      "Ciclo while=  4\n",
      "Ciclo for=  0\n",
      "Ciclo for=  1\n",
      "Ciclo for=  2\n",
      "Ciclo for=  3\n",
      "Ciclo for=  4\n",
      "Ciclo while=  5\n",
      "Ciclo for=  0\n",
      "Ciclo for=  1\n",
      "Ciclo for=  2\n",
      "Ciclo for=  3\n",
      "Ciclo for=  4\n",
      "Ciclo for=  5\n"
     ]
    }
   ],
   "source": [
    "n= 2\n",
    "while n<6:\n",
    "    print(\"Ciclo while= \", + int(n))\n",
    "    for i in range(0, (n+1)):\n",
    "        print(\"Ciclo for= \", + int(i))\n",
    "    n+=1\n"
   ]
  },
  {
   "attachments": {},
   "cell_type": "markdown",
   "metadata": {},
   "source": [
    "8) Crear un ciclo while dentro de un ciclo for"
   ]
  },
  {
   "cell_type": "code",
   "execution_count": 69,
   "metadata": {},
   "outputs": [
    {
     "name": "stdout",
     "output_type": "stream",
     "text": [
      "Ciclo while numero: 9\n",
      "Ciclo for numero: 1\n",
      "Ciclo while numero: 10\n",
      "Ciclo for numero: 1\n",
      "Ciclo for numero: 1\n",
      "Ciclo for numero: 2\n",
      "Ciclo for numero: 3\n",
      "Ciclo for numero: 4\n",
      "Ciclo for numero: 5\n",
      "Ciclo for numero: 6\n",
      "Ciclo for numero: 7\n"
     ]
    }
   ],
   "source": [
    "n= 8\n",
    "for i in range (1, n):\n",
    "    while (n < 10):\n",
    "        n+=1\n",
    "        print(\"Ciclo while numero: \" + str(n))\n",
    "        print(\"Ciclo for numero: \"+ str(i))\n",
    "\n",
    "n=8\n",
    "for i in range(1, n):\n",
    "    print(\"Ciclo for numero: \" + str(i))\n",
    "    n_temp = n\n",
    "    while n_temp<0:\n",
    "        print(\"Ciclo while numero: \" + str(n_temp))\n",
    "        n_temp-=1\n",
    "        if n_temp <= 0:\n",
    "            break\n",
    "    \n"
   ]
  },
  {
   "cell_type": "code",
   "execution_count": null,
   "metadata": {},
   "outputs": [],
   "source": []
  },
  {
   "attachments": {},
   "cell_type": "markdown",
   "metadata": {},
   "source": [
    "9) Imprimir los números primos existentes entre 0 y 30"
   ]
  },
  {
   "cell_type": "code",
   "execution_count": 70,
   "metadata": {},
   "outputs": [
    {
     "name": "stdout",
     "output_type": "stream",
     "text": [
      "0\n",
      "1\n",
      "2\n",
      "3\n",
      "5\n",
      "7\n",
      "11\n",
      "13\n",
      "17\n",
      "19\n",
      "23\n",
      "29\n"
     ]
    }
   ],
   "source": [
    "tope_rango=30\n",
    "n = 0\n",
    "primo = True\n",
    "while (n < tope_rango):\n",
    "    for div in range(2, n):\n",
    "        if (n % div == 0):\n",
    "            primo = False\n",
    "    if (primo):\n",
    "        print(n)\n",
    "    else:\n",
    "        primo = True\n",
    "    n += 1"
   ]
  },
  {
   "attachments": {},
   "cell_type": "markdown",
   "metadata": {},
   "source": [
    "10) ¿Se puede mejorar el proceso del punto 9? Utilizar las sentencias break y/ó continue para tal fin"
   ]
  },
  {
   "cell_type": "code",
   "execution_count": 72,
   "metadata": {},
   "outputs": [
    {
     "name": "stdout",
     "output_type": "stream",
     "text": [
      "0\n",
      "1\n",
      "2\n",
      "3\n",
      "5\n",
      "7\n",
      "11\n",
      "13\n",
      "17\n",
      "19\n",
      "23\n",
      "29\n"
     ]
    }
   ],
   "source": [
    "n = 0\n",
    "primo = True\n",
    "while (n < tope_rango):\n",
    "    for div in range(2, n):\n",
    "        if (n % div == 0):\n",
    "            primo = False\n",
    "            break\n",
    "    if (primo):\n",
    "        print(n)\n",
    "    else:\n",
    "        primo = True\n",
    "    n += 1"
   ]
  },
  {
   "attachments": {},
   "cell_type": "markdown",
   "metadata": {},
   "source": [
    "11) En los puntos 9 y 10, se diseño un código que encuentra números primos y además se lo optimizó. ¿Es posible saber en qué medida se optimizó?"
   ]
  },
  {
   "cell_type": "code",
   "execution_count": 71,
   "metadata": {},
   "outputs": [
    {
     "name": "stdout",
     "output_type": "stream",
     "text": [
      "0\n",
      "1\n",
      "2\n",
      "3\n",
      "5\n",
      "7\n",
      "11\n",
      "13\n",
      "17\n",
      "19\n",
      "23\n",
      "29\n",
      "Cantidad de ciclos: 378\n"
     ]
    }
   ],
   "source": [
    "ciclos_sin_break = 0\n",
    "n = 0\n",
    "primo = True\n",
    "while (n < tope_rango):\n",
    "    for div in range(2, n):\n",
    "        ciclos_sin_break += 1\n",
    "        if (n % div == 0):\n",
    "            primo = False\n",
    "    if (primo):\n",
    "        print(n)\n",
    "    else:\n",
    "        primo = True\n",
    "    n += 1\n",
    "print('Cantidad de ciclos: ' + str(ciclos_sin_break))"
   ]
  },
  {
   "attachments": {},
   "cell_type": "markdown",
   "metadata": {},
   "source": [
    "12) Aplicando continue, armar un ciclo while que solo imprima los valores divisibles por 12, dentro del rango de números de 100 a 300"
   ]
  },
  {
   "cell_type": "code",
   "execution_count": 75,
   "metadata": {},
   "outputs": [
    {
     "name": "stdout",
     "output_type": "stream",
     "text": [
      "108 es diviaible por 12\n",
      "120 es diviaible por 12\n",
      "132 es diviaible por 12\n",
      "144 es diviaible por 12\n",
      "156 es diviaible por 12\n",
      "168 es diviaible por 12\n",
      "180 es diviaible por 12\n",
      "192 es diviaible por 12\n",
      "204 es diviaible por 12\n",
      "216 es diviaible por 12\n",
      "228 es diviaible por 12\n",
      "240 es diviaible por 12\n",
      "252 es diviaible por 12\n",
      "264 es diviaible por 12\n",
      "276 es diviaible por 12\n",
      "288 es diviaible por 12\n",
      "300 es diviaible por 12\n"
     ]
    }
   ],
   "source": [
    "n= 99\n",
    "while (n <= 300):\n",
    "    n+=1\n",
    "    if (n % 12 != 0):\n",
    "        continue\n",
    "    print(str(n) + \" es divisible por 12\")\n"
   ]
  },
  {
   "attachments": {},
   "cell_type": "markdown",
   "metadata": {},
   "source": [
    "13) Utilizar la función **input()** que permite hacer ingresos por teclado, para encontrar números primos y dar la opción al usario de buscar el siguiente"
   ]
  },
  {
   "cell_type": "code",
   "execution_count": 87,
   "metadata": {},
   "outputs": [
    {
     "name": "stdout",
     "output_type": "stream",
     "text": [
      "1\n",
      "¿Desea encontrar el siguiente número primo?\n"
     ]
    }
   ],
   "source": [
    "n = 1\n",
    "sigue = 1\n",
    "primo = True\n",
    "while (sigue == 1):\n",
    "    for div in range(2, n):\n",
    "        if (n % div == 0):\n",
    "            primo = False\n",
    "            break\n",
    "    if (primo):\n",
    "        print(n)\n",
    "        print('¿Desea encontrar el siguiente número primo?')\n",
    "        if (input() != '1'):\n",
    "            print('Se finaliza el proceso')\n",
    "            break\n",
    "    else:\n",
    "        primo = True\n",
    "    n += 1"
   ]
  },
  {
   "attachments": {},
   "cell_type": "markdown",
   "metadata": {},
   "source": [
    "14) Crear un ciclo while que encuentre dentro del rango de 100 a 300 el primer número divisible por 3 y además múltiplo de 6"
   ]
  },
  {
   "cell_type": "code",
   "execution_count": 86,
   "metadata": {},
   "outputs": [
    {
     "name": "stdout",
     "output_type": "stream",
     "text": [
      "Este numero: 102\n"
     ]
    }
   ],
   "source": [
    "n = 100\n",
    "while(n<=300):\n",
    "    if (n % 6 == 0):\n",
    "      print(\"Este numero: \" + str(n))\n",
    "      break\n",
    "    n+=1\n",
    "\n"
   ]
  }
 ],
 "metadata": {
  "interpreter": {
   "hash": "c85384e4cb51c8b72350f3a8712cc8351fdc3955e32a27f9b60c6242ab125f01"
  },
  "kernelspec": {
   "display_name": "Python 3 (ipykernel)",
   "language": "python",
   "name": "python3"
  },
  "language_info": {
   "codemirror_mode": {
    "name": "ipython",
    "version": 3
   },
   "file_extension": ".py",
   "mimetype": "text/x-python",
   "name": "python",
   "nbconvert_exporter": "python",
   "pygments_lexer": "ipython3",
   "version": "3.12.1"
  }
 },
 "nbformat": 4,
 "nbformat_minor": 4
}
